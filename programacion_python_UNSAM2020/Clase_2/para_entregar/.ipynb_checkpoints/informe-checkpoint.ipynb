{
 "cells": [
  {
   "cell_type": "code",
   "execution_count": 1,
   "metadata": {},
   "outputs": [
    {
     "ename": "FileNotFoundError",
     "evalue": "[Errno 2] No such file or directory: 'precios.csv'",
     "output_type": "error",
     "traceback": [
      "\u001b[1;31m---------------------------------------------------------------------------\u001b[0m",
      "\u001b[1;31mFileNotFoundError\u001b[0m                         Traceback (most recent call last)",
      "\u001b[1;32m<ipython-input-1-f23784bfc80f>\u001b[0m in \u001b[0;36m<module>\u001b[1;34m\u001b[0m\n\u001b[0;32m     11\u001b[0m     \u001b[1;32mreturn\u001b[0m \u001b[0mprecios\u001b[0m\u001b[1;33m\u001b[0m\u001b[1;33m\u001b[0m\u001b[0m\n\u001b[0;32m     12\u001b[0m \u001b[1;33m\u001b[0m\u001b[0m\n\u001b[1;32m---> 13\u001b[1;33m \u001b[0mprecios\u001b[0m \u001b[1;33m=\u001b[0m \u001b[0mleer_preecios\u001b[0m\u001b[1;33m(\u001b[0m\u001b[1;34m'precios.csv'\u001b[0m\u001b[1;33m)\u001b[0m\u001b[1;33m\u001b[0m\u001b[1;33m\u001b[0m\u001b[0m\n\u001b[0m\u001b[0;32m     14\u001b[0m \u001b[1;33m\u001b[0m\u001b[0m\n\u001b[0;32m     15\u001b[0m \u001b[1;31m#\u001b[0m\u001b[1;33m\u001b[0m\u001b[1;33m\u001b[0m\u001b[1;33m\u001b[0m\u001b[0m\n",
      "\u001b[1;32m<ipython-input-1-f23784bfc80f>\u001b[0m in \u001b[0;36mleer_preecios\u001b[1;34m(nombre_archivo)\u001b[0m\n\u001b[0;32m      4\u001b[0m     \u001b[0mprecios\u001b[0m \u001b[1;33m=\u001b[0m \u001b[1;33m{\u001b[0m\u001b[1;33m}\u001b[0m\u001b[1;33m\u001b[0m\u001b[1;33m\u001b[0m\u001b[0m\n\u001b[0;32m      5\u001b[0m \u001b[1;33m\u001b[0m\u001b[0m\n\u001b[1;32m----> 6\u001b[1;33m     \u001b[1;32mwith\u001b[0m \u001b[0mopen\u001b[0m\u001b[1;33m(\u001b[0m\u001b[0mnombre_archivo\u001b[0m\u001b[1;33m,\u001b[0m \u001b[1;34m'rt'\u001b[0m\u001b[1;33m)\u001b[0m \u001b[1;32mas\u001b[0m \u001b[0mf\u001b[0m\u001b[1;33m:\u001b[0m\u001b[1;33m\u001b[0m\u001b[1;33m\u001b[0m\u001b[0m\n\u001b[0m\u001b[0;32m      7\u001b[0m         \u001b[1;32mfor\u001b[0m \u001b[0mline\u001b[0m \u001b[1;32min\u001b[0m \u001b[0mf\u001b[0m\u001b[1;33m:\u001b[0m\u001b[1;33m\u001b[0m\u001b[1;33m\u001b[0m\u001b[0m\n\u001b[0;32m      8\u001b[0m             \u001b[0mrow\u001b[0m \u001b[1;33m=\u001b[0m \u001b[0mline\u001b[0m\u001b[1;33m.\u001b[0m\u001b[0msplit\u001b[0m\u001b[1;33m(\u001b[0m\u001b[1;34m','\u001b[0m\u001b[1;33m)\u001b[0m\u001b[1;33m\u001b[0m\u001b[1;33m\u001b[0m\u001b[0m\n",
      "\u001b[1;31mFileNotFoundError\u001b[0m: [Errno 2] No such file or directory: 'precios.csv'"
     ]
    }
   ],
   "source": [
    "def leer_preecios(nombre_archivo):\n",
    "    import csv\n",
    "\n",
    "    precios = {}\n",
    "\n",
    "    with open(nombre_archivo, 'rt') as f:\n",
    "        for line in f:\n",
    "            row = line.split(',')\n",
    "            precios[row[0]] = float(row[1])\n",
    "            \n",
    "    return precios\n",
    "\n",
    "precios = leer_preecios('precios.csv')\n",
    "\n",
    "#\n",
    "\n",
    "def leer_camion(nombre_archivo):\n",
    "\n",
    "    import csv\n",
    "    \n",
    "    camion = []\n",
    "\n",
    "    with open(nombre_archivo, 'rt') as f:\n",
    "        rows = csv.reader(f)\n",
    "        headers = next(rows)\n",
    "        \n",
    "        for row in rows:\n",
    "            lote = {'nombre':row[0], 'cajones':int(row[1]), 'precio':float(row[2])}\n",
    "            camion.append(lote)\n",
    "    \n",
    "    return camion\n",
    "\n",
    "camion = leer_camion('camion.csv')\n",
    "\n",
    "## ganancias y pérdidas\n",
    "gan_perd = []\n",
    "\n",
    "for f in camion:\n",
    "    for i in precios:\n",
    "        \n",
    "        if f['nombre'] == i:\n",
    "            gan_perd = (precios[i] - f['precio']) * f['cajones']\n",
    "            \n",
    "            if gan_perd < 0:\n",
    "                print(\"======= \", i, \" =======\")\n",
    "                print('Monto pagado al productor: ', (f['precio'] * f['cajones']))\n",
    "                print('Valor comercial del producto: ', precios[i], \"/unidad\" )\n",
    "                print('Diferencia por unidad: $', precios[i] - f['precio'])\n",
    "                print('Resultó en una pérdida de dinero: $', gan_perd)\n",
    "                print(\"\")\n",
    "            \n",
    "            else:\n",
    "                print(\"======= \", i, \" =======\")\n",
    "                print('Monto pagado al productor: ', round((f['precio'] * f['cajones']), 2))\n",
    "                print('Valor comercial del producto: ', precios[i], \"/unidad\" )\n",
    "                print('Diferencia por unidad: $', round((precios[i] - f['precio']), 2))\n",
    "                print('Resultó en ganancia de dinero: $', round(gan_perd, 2))\n",
    "                print('')     \n",
    "                "
   ]
  }
 ],
 "metadata": {
  "kernelspec": {
   "display_name": "Python 3",
   "language": "python",
   "name": "python3"
  },
  "language_info": {
   "codemirror_mode": {
    "name": "ipython",
    "version": 3
   },
   "file_extension": ".py",
   "mimetype": "text/x-python",
   "name": "python",
   "nbconvert_exporter": "python",
   "pygments_lexer": "ipython3",
   "version": "3.7.6"
  }
 },
 "nbformat": 4,
 "nbformat_minor": 4
}
