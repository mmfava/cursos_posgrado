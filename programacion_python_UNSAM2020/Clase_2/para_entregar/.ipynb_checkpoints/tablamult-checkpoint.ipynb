{
 "cells": [
  {
   "cell_type": "code",
   "execution_count": 2,
   "metadata": {},
   "outputs": [
    {
     "name": "stdout",
     "output_type": "stream",
     "text": [
      "                     0          1          2          3          4          5          6          7          8          9\n",
      "        -------------------------------------------------------------------------------------------------------------------\n",
      "         0:          0          0          0          0          0          0          0          0          0          0\n",
      "         1:          0          1          2          3          4          5          6          7          8          9\n",
      "         2:          0          2          4          6          8         10         12         14         16         18\n",
      "         3:          0          3          6          9         12         15         18         21         24         27\n",
      "         4:          0          4          8         12         16         20         24         28         32         36\n",
      "         5:          0          5         10         15         20         25         30         35         40         45\n",
      "         6:          0          6         12         18         24         30         36         42         48         54\n",
      "         7:          0          7         14         21         28         35         42         49         56         63\n",
      "         8:          0          8         16         24         32         40         48         56         64         72\n",
      "         9:          0          9         18         27         36         45         54         63         72         81\n"
     ]
    }
   ],
   "source": [
    "# tablamult.py\n",
    "\n",
    "column = (0, 1, 2, 3, 4, 5, 6, 7, 8, 9)\n",
    "inicio = [0, 0, 0, 0, 0, 0, 0, 0, 0, 0]\n",
    "\n",
    "print (\"           \", f'{0:>10} {1:>10} {2:>10} {3:>10} {4:>10} {5:>10} {6:>10} {7:>10} {8:>10} {9:>10}')\n",
    "print (\"       \", \"-------------------------------------------------------------------------------------------------------------------\")\n",
    "\n",
    "for i in range(10):\n",
    "    print(f'{i:>10d}: {inicio[0]:>10} {inicio[1]:>10d} {inicio[2]:>10d} {inicio[3]:>10d} {inicio[4]:>10d} {inicio[5]:>10d} {inicio[6]:>10d} {inicio[7]:>10d} {inicio[8]:>10d} {inicio[9]:>10d}')\n",
    "    inicio = (inicio[0] + 0, inicio[1] + 1, \n",
    "              inicio[2] + 2, inicio[3] + 3, \n",
    "              inicio[4] + 4, inicio[5] + 5, \n",
    "              inicio[6] + 6, inicio[7] + 7,\n",
    "              inicio[8] + 8, inicio[9] + 9)\n"
   ]
  }
 ],
 "metadata": {
  "kernelspec": {
   "display_name": "Python 3",
   "language": "python",
   "name": "python3"
  },
  "language_info": {
   "codemirror_mode": {
    "name": "ipython",
    "version": 3
   },
   "file_extension": ".py",
   "mimetype": "text/x-python",
   "name": "python",
   "nbconvert_exporter": "python",
   "pygments_lexer": "ipython3",
   "version": "3.7.6"
  }
 },
 "nbformat": 4,
 "nbformat_minor": 4
}
