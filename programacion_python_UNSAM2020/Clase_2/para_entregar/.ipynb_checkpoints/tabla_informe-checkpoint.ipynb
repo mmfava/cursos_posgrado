{
 "cells": [
  {
   "cell_type": "code",
   "execution_count": 1,
   "metadata": {},
   "outputs": [
    {
     "name": "stdout",
     "output_type": "stream",
     "text": [
      "    Nombre    Cajones     Precio     Cambio\n",
      "   -------    -------    -------    -------\n",
      "      Lima        100      $32.2       8.02\n",
      "   Naranja         50      $91.1      15.18\n",
      "     Caqui        150     $103.4       2.02\n",
      " Mandarina        200     $51.23      29.66\n",
      "   Durazno         95     $40.37      33.11\n",
      " Mandarina         50      $65.1      15.79\n",
      "   Naranja        100     $70.44      35.84\n"
     ]
    }
   ],
   "source": [
    "## 2.32 - informe\n",
    "\n",
    "def leer_preecios(nombre_archivo):\n",
    "    import csv\n",
    "\n",
    "    precios = {}\n",
    "\n",
    "    with open(nombre_archivo, 'rt') as f:\n",
    "        for line in f:\n",
    "            row = line.split(',')\n",
    "            precios[row[0]] = float(row[1])\n",
    "            \n",
    "    return precios\n",
    "\n",
    "precios = leer_preecios('precios.csv')\n",
    "\n",
    "#\n",
    "\n",
    "def leer_camion(nombre_archivo):\n",
    "\n",
    "    import csv\n",
    "    \n",
    "    camion = []\n",
    "\n",
    "    with open(nombre_archivo, 'rt') as f:\n",
    "        rows = csv.reader(f)\n",
    "        headers = next(rows)\n",
    "        \n",
    "        for row in rows:\n",
    "            lote = {'nombre':row[0], 'cajones':int(row[1]), 'precio':float(row[2])}\n",
    "            camion.append(lote)\n",
    "    \n",
    "    return camion\n",
    "\n",
    "camion = leer_camion('camion.csv')\n",
    "\n",
    "## ganancias y pérdidas\n",
    "\n",
    "def hacer_informe(camion, precios):\n",
    "    tab = []\n",
    "    \n",
    "    for f in camion:\n",
    "        for i in precios:\n",
    "        \n",
    "            if f['nombre'] == i:\n",
    "                lista = (i, f['cajones'], f['precio'], (precios[i] - f['precio']))\n",
    "                tab.append(lista)\n",
    "                \n",
    "    return tab\n",
    "\n",
    "informe = hacer_informe(camion, precios)\n",
    "\n",
    "## Tabla\n",
    "print (\"{:>10} {:>10} {:>10} {:>10}\".format('Nombre', 'Cajones', 'Precio', 'Cambio'))\n",
    "print (\"{:>10} {:>10} {:>10} {:>10}\".format('-------', '-------', '-------', '-------'))\n",
    "\n",
    "\n",
    "for i in informe:\n",
    "    a = f'${str(i[2]):.5}'\n",
    "    b = (i[0], i[1], a, i[3])\n",
    "    print (\"{:>10s} {:>10d} {:>10.6} {:>10.2f}\".format(b[0], b[1], b[2], b[3]))\n",
    "\n"
   ]
  }
 ],
 "metadata": {
  "kernelspec": {
   "display_name": "Python 3",
   "language": "python",
   "name": "python3"
  },
  "language_info": {
   "codemirror_mode": {
    "name": "ipython",
    "version": 3
   },
   "file_extension": ".py",
   "mimetype": "text/x-python",
   "name": "python",
   "nbconvert_exporter": "python",
   "pygments_lexer": "ipython3",
   "version": "3.7.6"
  }
 },
 "nbformat": 4,
 "nbformat_minor": 4
}
