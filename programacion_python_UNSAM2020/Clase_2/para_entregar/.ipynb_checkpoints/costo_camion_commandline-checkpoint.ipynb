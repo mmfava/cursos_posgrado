{
 "cells": [
  {
   "cell_type": "code",
   "execution_count": null,
   "metadata": {},
   "outputs": [],
   "source": [
    "# costo_camion_commandline.py\n",
    "\n",
    "import sys\n",
    "import csv\n",
    "\n",
    "def costo_camion(nombre_archivo): \n",
    "\n",
    "    f = open(nombre_archivo)\n",
    "    rows = csv.reader(f)\n",
    "    headers = next(rows)\n",
    "\n",
    "    total = 0\n",
    "    \n",
    "    for row in rows:\n",
    "        try:\n",
    "            total += int(row[1]) * float(row[2])\n",
    "            print(row, total)\n",
    "        except:\n",
    "            total += float(row[2])\n",
    "            print('Valores faltantes em', row)\n",
    "            print(row, total)\n",
    "\n",
    "                            \n",
    "    return round(total, 2)\n",
    "\n",
    "if len(sys.argv) == 2:\n",
    "    nombre_archivo = sys.argv[1]\n",
    "else:\n",
    "    nombre_archivo = 'camion.csv'\n",
    "\n",
    "\n",
    "costo = costo_camion(nombre_archivo)\n",
    "print('Costo total: ', costo)"
   ]
  }
 ],
 "metadata": {
  "kernelspec": {
   "display_name": "Python 3",
   "language": "python",
   "name": "python3"
  },
  "language_info": {
   "codemirror_mode": {
    "name": "ipython",
    "version": 3
   },
   "file_extension": ".py",
   "mimetype": "text/x-python",
   "name": "python",
   "nbconvert_exporter": "python",
   "pygments_lexer": "ipython3",
   "version": "3.7.6"
  }
 },
 "nbformat": 4,
 "nbformat_minor": 4
}
