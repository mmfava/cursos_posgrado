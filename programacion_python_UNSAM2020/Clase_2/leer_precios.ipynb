{
 "cells": [
  {
   "cell_type": "code",
   "execution_count": 1,
   "metadata": {},
   "outputs": [
    {
     "data": {
      "text/plain": [
       "40.22"
      ]
     },
     "execution_count": 1,
     "metadata": {},
     "output_type": "execute_result"
    }
   ],
   "source": [
    "## leer_precios\n",
    "\n",
    "def leer_preecios(nombre_archivo):\n",
    "    import csv\n",
    "\n",
    "    precios = {}\n",
    "\n",
    "    with open(nombre_archivo, 'rt') as f:\n",
    "        for line in f:\n",
    "            row = line.split(',')\n",
    "            precios[row[0]] = float(row[1])\n",
    "            \n",
    "    return precios\n",
    "\n",
    "precios = leer_preecios('precios.csv')\n",
    "precios['Lima']"
   ]
  }
 ],
 "metadata": {
  "kernelspec": {
   "display_name": "Python 3",
   "language": "python",
   "name": "python3"
  },
  "language_info": {
   "codemirror_mode": {
    "name": "ipython",
    "version": 3
   },
   "file_extension": ".py",
   "mimetype": "text/x-python",
   "name": "python",
   "nbconvert_exporter": "python",
   "pygments_lexer": "ipython3",
   "version": "3.7.6"
  }
 },
 "nbformat": 4,
 "nbformat_minor": 4
}
