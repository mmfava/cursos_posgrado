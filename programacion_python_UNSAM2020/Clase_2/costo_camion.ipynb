{
 "cells": [
  {
   "cell_type": "code",
   "execution_count": 1,
   "metadata": {},
   "outputs": [
    {
     "name": "stdout",
     "output_type": "stream",
     "text": [
      "Valores faltantes em ['Mandarina', '', '51.23']\n",
      "Valores faltantes em ['Naranja', '', '70.44']\n",
      "Costo total:  30502.82\n"
     ]
    }
   ],
   "source": [
    "## costo_camion()\n",
    "\n",
    "def costo_camion(nombre_archivo): \n",
    "\n",
    "    import csv\n",
    "\n",
    "    f = open(nombre_archivo)\n",
    "    rows = csv.reader(f)\n",
    "    headers = next(rows)\n",
    "\n",
    "    total = 0\n",
    "    \n",
    "    for row in rows:\n",
    "        try:\n",
    "            total += int(row[1]) * float(row[2])\n",
    "        except:\n",
    "            if row[1] == '':\n",
    "                total += float(row[2])\n",
    "                print('Valores faltantes em', row)\n",
    "                            \n",
    "    return round(total, 2)\n",
    "\n",
    "costo = costo_camion('missing.csv')\n",
    "print('Costo total: ', costo)"
   ]
  }
 ],
 "metadata": {
  "kernelspec": {
   "display_name": "Python 3",
   "language": "python",
   "name": "python3"
  },
  "language_info": {
   "codemirror_mode": {
    "name": "ipython",
    "version": 3
   },
   "file_extension": ".py",
   "mimetype": "text/x-python",
   "name": "python",
   "nbconvert_exporter": "python",
   "pygments_lexer": "ipython3",
   "version": "3.7.6"
  }
 },
 "nbformat": 4,
 "nbformat_minor": 4
}
